{
 "cells": [
  {
   "cell_type": "code",
   "execution_count": 2,
   "id": "bb419a6e-3eb7-4133-bcec-ad1ef53c336a",
   "metadata": {},
   "outputs": [],
   "source": [
    "# !pip install mlflow\n",
    "# !pip install scikit-learn"
   ]
  },
  {
   "cell_type": "code",
   "execution_count": 31,
   "id": "1d14afb4-3728-4cc0-9326-bf69576c08e4",
   "metadata": {},
   "outputs": [],
   "source": [
    "import pandas as pd\n",
    "import numpy as np\n",
    "from sklearn.linear_model import LinearRegression\n",
    "from sklearn.model_selection import train_test_split\n",
    "from sklearn.metrics import mean_squared_error\n",
    "from math import sqrt\n",
    "from sklearn.ensemble import RandomForestRegressor\n",
    "import datetime\n",
    "from sklearn.metrics import r2_score\n",
    "import warnings as wg\n",
    "wg.filterwarnings(\"ignore\")"
   ]
  },
  {
   "cell_type": "code",
   "execution_count": 32,
   "id": "5a046498-650f-4b44-91c8-4a7dc665498f",
   "metadata": {},
   "outputs": [
    {
     "name": "stderr",
     "output_type": "stream",
     "text": [
      "2022/10/09 18:39:38 INFO mlflow.tracking.fluent: Experiment with name 'Wine Quality' does not exist. Creating a new experiment.\n"
     ]
    },
    {
     "data": {
      "text/plain": [
       "<Experiment: artifact_location='./mlruns/1', experiment_id='1', lifecycle_stage='active', name='Wine Quality', tags={}>"
      ]
     },
     "execution_count": 32,
     "metadata": {},
     "output_type": "execute_result"
    }
   ],
   "source": [
    "import mlflow\n",
    "from mlflow.models.signature import infer_signature\n",
    "mlflow.set_tracking_uri(\"http://127.0.0.1:5000/\")\n",
    "\n",
    "#assigning the experiment name - the name to be viewed in the mlflow server\n",
    "mlflow.set_experiment(\"Wine Quality\")"
   ]
  },
  {
   "cell_type": "code",
   "execution_count": 33,
   "id": "f837657e-4f0b-44c3-8f19-2d4b39478b98",
   "metadata": {},
   "outputs": [],
   "source": [
    "df = pd.read_csv(\"wine-quality.csv\")"
   ]
  },
  {
   "cell_type": "code",
   "execution_count": 34,
   "id": "3be70cc9-01f8-4559-a4e4-5b1c0f049448",
   "metadata": {},
   "outputs": [],
   "source": [
    "tag = {\"data\":\"5k\", \"model\": \"Linear\"}"
   ]
  },
  {
   "cell_type": "code",
   "execution_count": 35,
   "id": "4347fb88-3385-4399-9ae6-fa88f1640c34",
   "metadata": {},
   "outputs": [],
   "source": [
    "X = df.drop([\"quality\"], axis=1)\n",
    "y = df[[\"quality\"]]"
   ]
  },
  {
   "cell_type": "code",
   "execution_count": 36,
   "id": "e66070d7-c6c3-4509-91b6-e9ec4bc302df",
   "metadata": {},
   "outputs": [],
   "source": [
    "runname = \"LinearRegression-run-\" + str(datetime.datetime.now()).replace(\" \",\"T\")\n",
    "with mlflow.start_run(run_name=runname) as run:\n",
    "    mlflow.set_tags(tag) \n",
    "    \n",
    "    X_train, X_test, y_train, y_test = train_test_split(X, y,test_size = .33, random_state = 0)\n",
    "    \n",
    "    model = LinearRegression().fit(X, y)\n",
    "\n",
    "    score = model.score(X, y)\n",
    "    \n",
    "    mlflow.log_metric(\"score\", score)\n",
    "    mlflow.sklearn.log_model(model, \"model\")"
   ]
  },
  {
   "cell_type": "code",
   "execution_count": 37,
   "id": "c1bc0935-38e8-4fd0-a6e9-a8af1b0c55ab",
   "metadata": {},
   "outputs": [
    {
     "name": "stdout",
     "output_type": "stream",
     "text": [
      "Training Complete.\n"
     ]
    }
   ],
   "source": [
    "mlflow.end_run()\n",
    "print(\"Training Complete.\")"
   ]
  },
  {
   "cell_type": "code",
   "execution_count": 38,
   "id": "429f1428-a1ec-4a6a-ad22-eaf0101e5161",
   "metadata": {},
   "outputs": [
    {
     "name": "stdout",
     "output_type": "stream",
     "text": [
      "Training Complete.\n"
     ]
    }
   ],
   "source": [
    "tag = {\"data\":\"5k\", \"model\": \"Random-Forest\"}\n",
    "runname = \"RandomForest-run-\" + str(datetime.datetime.now()).replace(\" \",\"T\")\n",
    "with mlflow.start_run(run_name=runname) as run:\n",
    "    \n",
    "    model = RandomForestRegressor().fit(X, y)\n",
    "    \n",
    "    mlflow.set_tags(tag)                                    \n",
    "\n",
    "    score = model.score(X, y)\n",
    "\n",
    "    mlflow.log_metric(\"score\", score)\n",
    "    mlflow.sklearn.log_model(model, \"model\")\n",
    "\n",
    "mlflow.end_run()\n",
    "print(\"Training Complete.\")"
   ]
  },
  {
   "cell_type": "code",
   "execution_count": null,
   "id": "f6f7c8dc-9425-4e95-adb5-8dff7faa2c7d",
   "metadata": {},
   "outputs": [],
   "source": []
  }
 ],
 "metadata": {
  "kernelspec": {
   "display_name": "Python 3",
   "language": "python",
   "name": "python3"
  },
  "language_info": {
   "codemirror_mode": {
    "name": "ipython",
    "version": 3
   },
   "file_extension": ".py",
   "mimetype": "text/x-python",
   "name": "python",
   "nbconvert_exporter": "python",
   "pygments_lexer": "ipython3",
   "version": "3.8.13"
  }
 },
 "nbformat": 4,
 "nbformat_minor": 5
}
